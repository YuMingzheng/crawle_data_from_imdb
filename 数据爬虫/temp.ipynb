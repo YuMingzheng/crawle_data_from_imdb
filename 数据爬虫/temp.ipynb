{
 "cells": [
  {
   "cell_type": "code",
   "execution_count": 1,
   "metadata": {},
   "outputs": [],
   "source": [
    "import requests\n",
    "import re\n",
    "from bs4 import BeautifulSoup\n",
    "import time\n",
    "\n",
    "from lxml import etree\n",
    "import pandas as pd\n"
   ]
  },
  {
   "cell_type": "code",
   "execution_count": 2,
   "metadata": {},
   "outputs": [],
   "source": [
    "url = \"https://www.maoyan.com/films/1299372\"\n",
    "url2 = \"https://www.maoyan.com/ajax/films/1299372?timeStamp=\"+str(int(time.time()*1000) -3 )+\"&index=2&signKey=893017c3979511c128ffc05dd2aca596&channelId=40011&sVersion=1&webdriver=false\"\n",
    "\n",
    "header = {\n",
    "    \"User-Agent\":\"Mozilla/5.0 (Windows NT 10.0; Win64; x64) AppleWebKit/537.36 (KHTML, like Gecko) Chrome/104.0.0.0 Safari/537.36\"\n",
    "}\n",
    "\n",
    "\n",
    "    # time.sleep(1000)\n",
    "# resp = requests.get(url = url2 , headers= header)\n",
    "\n",
    "# print(len(resp.text))"
   ]
  },
  {
   "cell_type": "code",
   "execution_count": 6,
   "metadata": {},
   "outputs": [
    {
     "name": "stdout",
     "output_type": "stream",
     "text": [
      "14659\n"
     ]
    }
   ],
   "source": [
    "url=\"https://www.maoyan.com/films/celebrity/ajax/works/2892300?offset=3\"\n",
    "for i in range(100):\n",
    "    resp = requests.get(\"https://www.maoyan.com/films/celebrity/ajax/works/2892300?offset=3\" , headers=header)\n",
    "    print(len(resp.text))"
   ]
  },
  {
   "cell_type": "code",
   "execution_count": null,
   "metadata": {},
   "outputs": [],
   "source": [
    "import pandas as pd\n",
    "\n",
    "url3 = \"https://www.imdb.com/title/tt7362036/companycredits\"\n",
    "\n",
    "resp3 = requests.get(url=url3 , headers=header)\n",
    "\n",
    "print(resp3.text)"
   ]
  },
  {
   "cell_type": "code",
   "execution_count": 75,
   "metadata": {},
   "outputs": [],
   "source": [
    "url = \"https://www.imdb.com/title/\" + \"tt7362036\"  # 拼接得到URL\n",
    "header = {\n",
    "    \"accept\" : \"text/html,application/xhtml+xml,application/xml;q=0.9,image/avif,image/webp,image/apng,*/*;q=0.8,application/signed-exchange;v=b3;q=0.9\",\n",
    "    \"user-agent\" : \"Mozilla/5.0 (Windows NT 10.0; Win64; x64) AppleWebKit/537.36 (KHTML, like Gecko) Chrome/96.0.4664.93 Safari/537.36\",\n",
    "    \"sec-ch-us\" : '\" Not A;Brand\";v=\"99\", \"Chromium\";v=\"96\", \"Google Chrome\";v=\"96\"'\n",
    "}\n",
    "resp = requests.get(url = url , headers = header)\n",
    "resp.raise_for_status()\n",
    "resp.encoding = resp.apparent_encoding\n"
   ]
  },
  {
   "cell_type": "code",
   "execution_count": 4,
   "metadata": {},
   "outputs": [],
   "source": [
    "soup = BeautifulSoup(resp.text , \"html.parser\")\n",
    "parse = etree.HTML(resp.text)"
   ]
  },
  {
   "cell_type": "code",
   "execution_count": 5,
   "metadata": {},
   "outputs": [],
   "source": [
    "soup.find(\"section\" , attrs = {\"data-testid\":\"Storyline\"})"
   ]
  },
  {
   "cell_type": "code",
   "execution_count": 232,
   "metadata": {},
   "outputs": [
    {
     "data": {
      "text/plain": [
       "'July 5, 2018 (China)'"
      ]
     },
     "execution_count": 232,
     "metadata": {},
     "output_type": "execute_result"
    }
   ],
   "source": [
    "# release date\n",
    "soup.find(\"section\" , attrs = {\"data-testid\":\"Details\"}).find(\"li\" , attrs = {\"data-testid\":\"title-details-releasedate\"}).find('div').text"
   ]
  },
  {
   "cell_type": "code",
   "execution_count": 230,
   "metadata": {},
   "outputs": [
    {
     "data": {
      "text/plain": [
       "'$451,183,391'"
      ]
     },
     "execution_count": 230,
     "metadata": {},
     "output_type": "execute_result"
    }
   ],
   "source": [
    "# Box office\n",
    "soup.find(\"section\" , attrs = {\"data-testid\":\"BoxOffice\"}).find(\"li\" , attrs = {\"data-testid\":\"title-boxoffice-cumulativeworldwidegross\"}).find('div').text"
   ]
  },
  {
   "cell_type": "code",
   "execution_count": 19,
   "metadata": {},
   "outputs": [
    {
     "data": {
      "text/plain": [
       "[<a aria-disabled=\"false\" class=\"sc-16ede01-3 bYNgQ ipc-chip ipc-chip--on-baseAlt\" href=\"/search/title?genres=comedy&amp;explore=title_type,genres&amp;ref_=tt_ov_inf\" role=\"button\" tabindex=\"0\"><span class=\"ipc-chip__text\">Comedy</span></a>,\n",
       " <a aria-disabled=\"false\" class=\"sc-16ede01-3 bYNgQ ipc-chip ipc-chip--on-baseAlt\" href=\"/search/title?genres=drama&amp;explore=title_type,genres&amp;ref_=tt_ov_inf\" role=\"button\" tabindex=\"0\"><span class=\"ipc-chip__text\">Drama</span></a>]"
      ]
     },
     "execution_count": 19,
     "metadata": {},
     "output_type": "execute_result"
    }
   ],
   "source": [
    "soup.find(\"div\" , attrs = {\"data-testid\":\"genres\"}).find_all(\"a\")#[0].text"
   ]
  },
  {
   "cell_type": "code",
   "execution_count": 20,
   "metadata": {},
   "outputs": [
    {
     "data": {
      "text/plain": [
       "'Wo bu shi yao shen'"
      ]
     },
     "execution_count": 20,
     "metadata": {},
     "output_type": "execute_result"
    }
   ],
   "source": [
    "soup.find(\"h1\" , attrs={\"data-testid\":\"hero-title-block__title\"}).text"
   ]
  },
  {
   "cell_type": "code",
   "execution_count": null,
   "metadata": {},
   "outputs": [],
   "source": [
    "soup_full = None"
   ]
  },
  {
   "cell_type": "code",
   "execution_count": 97,
   "metadata": {},
   "outputs": [],
   "source": [
    "full_list = soup_full.find(\"div\" , attrs = {'id':'fullcredits_content'}).find_all(\"h4\")"
   ]
  },
  {
   "cell_type": "code",
   "execution_count": 116,
   "metadata": {},
   "outputs": [
    {
     "name": "stdout",
     "output_type": "stream",
     "text": [
      "Directed by\n",
      "Writing Credits\n",
      "Cast\n",
      "Produced by\n",
      "Music by\n",
      "Cinematography by\n",
      "Film Editing by\n",
      "Casting By\n",
      "Production Design by\n",
      "Costume Design by\n",
      "Production Management\n",
      "Second Unit Director or Assistant Director\n",
      "Sound Department\n",
      "Visual Effects by\n",
      "Editorial Department\n",
      "Location Management\n",
      "Additional Crew\n"
     ]
    }
   ],
   "source": [
    "for i in range(len(full_list)):\n",
    "    print(re.sub(\"\\(.*\\)\" , \"\" , full_list[i].text).strip())"
   ]
  },
  {
   "cell_type": "code",
   "execution_count": 118,
   "metadata": {},
   "outputs": [],
   "source": [
    "url = \"https://www.imdb.com/title/\"+\"tt7362036\"+\"/fullcredits\"\n",
    "header = {\n",
    "    \"user-agent\": \"Mozilla/5.0 (Windows NT 10.0; Win64; x64) AppleWebKit/537.36 (KHTML, like Gecko) Chrome/96.0.4664.93 Safari/537.36\",\n",
    "}\n",
    "resp = requests.get(url = url , headers = header)\n",
    "resp.raise_for_status()\n",
    "resp.encoding = resp.apparent_encoding\n",
    "\n",
    "soup = BeautifulSoup(resp.text)\n",
    "\n",
    "fullList = {\n",
    "    'actor':[],\n",
    "    'director':[],\n",
    "    'writer':[],\n",
    "    'producer':[],\n",
    "}\n",
    "title_l = soup.find(\"div\", attrs={'id': 'fullcredits_content'}).find_all(\"h4\")\n",
    "table_l = soup.find(\"div\", attrs={'id': 'fullcredits_content'}).find_all(\"table\")\n",
    "\n",
    "actor_list = []\n",
    "directer_list = []\n",
    "writer_list = []\n",
    "producer_list = []\n",
    "for i , v in enumerate(title_l):\n",
    "    if v.text == \"Cast\":\n",
    "        print(table_l[i].text)\n",
    "    elif v.text == \"Directed by\":\n",
    "        print(\"\")\n",
    "    elif v.text == \"Writing Credits\":\n",
    "        pass\n",
    "    elif v.text == \"Produced by\":\n",
    "        pass\n"
   ]
  },
  {
   "cell_type": "code",
   "execution_count": null,
   "metadata": {},
   "outputs": [],
   "source": [
    "resp_p = requests.get(url=\"https://www.imdb.com/name/nm1905770\", headers=header)\n",
    "resp_p.raise_for_status()\n",
    "resp_p.encoding = resp_p.apparent_encoding\n",
    "\n",
    "soup_p = BeautifulSoup(resp_p.text)"
   ]
  },
  {
   "cell_type": "code",
   "execution_count": 176,
   "metadata": {},
   "outputs": [],
   "source": [
    "l = soup_p.find(\"div\" , attrs = {\"id\":\"filmography\"}).find_all(\"div\" , recursive= False)"
   ]
  },
  {
   "cell_type": "code",
   "execution_count": 180,
   "metadata": {},
   "outputs": [
    {
     "data": {
      "text/plain": [
       "True"
      ]
     },
     "execution_count": 180,
     "metadata": {},
     "output_type": "execute_result"
    }
   ],
   "source": [
    "l[0].attrs.get('id') == \"filmo-head-actor\""
   ]
  },
  {
   "cell_type": "code",
   "execution_count": 222,
   "metadata": {},
   "outputs": [],
   "source": [
    "url = \"https://www.imdb.com/title/tt7362036/fullcredits\"\n",
    "header = {\n",
    "    \"user-agent\": \"Mozilla/5.0 (Windows NT 10.0; Win64; x64) AppleWebKit/537.36 (KHTML, like Gecko) Chrome/96.0.4664.93 Safari/537.36\",\n",
    "}\n",
    "resp = requests.get(url = url , headers = header)\n",
    "resp.raise_for_status()\n",
    "resp.encoding = resp.apparent_encoding\n",
    "\n",
    "soup = BeautifulSoup(resp.text)\n",
    "\n",
    "table_l = soup.find(\"div\", attrs={'id': 'fullcredits_content'}).find_all(\"table\")"
   ]
  },
  {
   "cell_type": "code",
   "execution_count": 234,
   "metadata": {},
   "outputs": [],
   "source": [
    "url = \"https://www.imdb.com/search/title/?companies=co0707720&sort=boxoffice_gross_us,desc\"\n",
    "header = {\n",
    "    \"user-agent\": \"Mozilla/5.0 (Windows NT 10.0; Win64; x64) AppleWebKit/537.36 (KHTML, like Gecko) Chrome/96.0.4664.93 Safari/537.36\",\n",
    "}\n",
    "resp = requests.get(url=url, headers=header)\n",
    "resp.raise_for_status()\n",
    "# resp.encoding = resp.apparent_encoding\n",
    "\n",
    "soup = BeautifulSoup(resp.text)\n",
    "\n",
    "_total_film = soup.find(\"div\" , attrs = {\"class\" : \"article\"}).find(\"div\" , attrs = {\"class\" : \"desc\"}).text"
   ]
  },
  {
   "cell_type": "code",
   "execution_count": 235,
   "metadata": {},
   "outputs": [
    {
     "data": {
      "text/plain": [
       "26"
      ]
     },
     "execution_count": 235,
     "metadata": {},
     "output_type": "execute_result"
    }
   ],
   "source": []
  },
  {
   "cell_type": "code",
   "execution_count": 242,
   "metadata": {},
   "outputs": [
    {
     "data": {
      "text/html": [
       "<div>\n",
       "<style scoped>\n",
       "    .dataframe tbody tr th:only-of-type {\n",
       "        vertical-align: middle;\n",
       "    }\n",
       "\n",
       "    .dataframe tbody tr th {\n",
       "        vertical-align: top;\n",
       "    }\n",
       "\n",
       "    .dataframe thead th {\n",
       "        text-align: right;\n",
       "    }\n",
       "</style>\n",
       "<table border=\"1\" class=\"dataframe\">\n",
       "  <thead>\n",
       "    <tr style=\"text-align: right;\">\n",
       "      <th></th>\n",
       "      <th>ID</th>\n",
       "      <th>Name</th>\n",
       "      <th>Box</th>\n",
       "    </tr>\n",
       "  </thead>\n",
       "  <tbody>\n",
       "    <tr>\n",
       "      <th>0</th>\n",
       "      <td>123</td>\n",
       "      <td>456</td>\n",
       "      <td>444</td>\n",
       "    </tr>\n",
       "    <tr>\n",
       "      <th>1</th>\n",
       "      <td>123</td>\n",
       "      <td>456</td>\n",
       "      <td>0</td>\n",
       "    </tr>\n",
       "    <tr>\n",
       "      <th>2</th>\n",
       "      <td>123</td>\n",
       "      <td>456</td>\n",
       "      <td>789</td>\n",
       "    </tr>\n",
       "  </tbody>\n",
       "</table>\n",
       "</div>"
      ],
      "text/plain": [
       "    ID Name  Box\n",
       "0  123  456  444\n",
       "1  123  456    0\n",
       "2  123  456  789"
      ]
     },
     "execution_count": 242,
     "metadata": {},
     "output_type": "execute_result"
    }
   ],
   "source": [
    "movie_list = pd.DataFrame(columns=[\"ID\" , \"Name\" , \"Box\"])\n",
    "temp = {\n",
    "        \"ID\":123,\n",
    "        \"Name\":456,\n",
    "        \"Box\": 444\n",
    "    }\n",
    "temp2 = {\n",
    "        \"ID\":123,\n",
    "        \"Name\":456,\n",
    "        \"Box\": 0.0\n",
    "    }\n",
    "temp3 = {\n",
    "        \"ID\":123,\n",
    "        \"Name\":456,\n",
    "        \"Box\": 789\n",
    "    }\n",
    "            \n",
    "movie_list = movie_list.append(temp , ignore_index=True)\n",
    "movie_list = movie_list.append(temp2 , ignore_index=True)\n",
    "movie_list = movie_list.append(temp3 , ignore_index=True)\n",
    "movie_list"
   ]
  },
  {
   "cell_type": "code",
   "execution_count": 249,
   "metadata": {},
   "outputs": [
    {
     "data": {
      "text/plain": [
       "10"
      ]
     },
     "execution_count": 249,
     "metadata": {},
     "output_type": "execute_result"
    }
   ],
   "source": [
    "import json\n",
    "with open(\"./ing_data/firm.json\") as f:\n",
    "    data = json.load(f)\n",
    "data['test']"
   ]
  },
  {
   "cell_type": "code",
   "execution_count": 255,
   "metadata": {},
   "outputs": [],
   "source": [
    "data['test2'] = 222"
   ]
  },
  {
   "cell_type": "code",
   "execution_count": 257,
   "metadata": {},
   "outputs": [
    {
     "ename": "TypeError",
     "evalue": "sequence item 0: expected str instance, int found",
     "output_type": "error",
     "traceback": [
      "\u001b[1;31m---------------------------------------------------------------------------\u001b[0m",
      "\u001b[1;31mTypeError\u001b[0m                                 Traceback (most recent call last)",
      "\u001b[1;32m<ipython-input-257-669629dc9b5c>\u001b[0m in \u001b[0;36m<module>\u001b[1;34m\u001b[0m\n\u001b[1;32m----> 1\u001b[1;33m \u001b[1;34m\",\"\u001b[0m\u001b[1;33m.\u001b[0m\u001b[0mjoin\u001b[0m\u001b[1;33m(\u001b[0m\u001b[1;33m[\u001b[0m\u001b[1;36m1\u001b[0m\u001b[1;33m,\u001b[0m\u001b[1;36m2\u001b[0m\u001b[1;33m,\u001b[0m\u001b[1;36m3\u001b[0m\u001b[1;33m,\u001b[0m\u001b[1;36m4\u001b[0m\u001b[1;33m,\u001b[0m\u001b[1;36m5\u001b[0m\u001b[1;33m]\u001b[0m\u001b[1;33m)\u001b[0m\u001b[1;33m\u001b[0m\u001b[1;33m\u001b[0m\u001b[0m\n\u001b[0m",
      "\u001b[1;31mTypeError\u001b[0m: sequence item 0: expected str instance, int found"
     ]
    }
   ],
   "source": [
    "\",\".join([1,2,3,4,5])"
   ]
  }
 ],
 "metadata": {
  "kernelspec": {
   "display_name": "Python 3.8.5 64-bit",
   "language": "python",
   "name": "python3"
  },
  "language_info": {
   "codemirror_mode": {
    "name": "ipython",
    "version": 3
   },
   "file_extension": ".py",
   "mimetype": "text/x-python",
   "name": "python",
   "nbconvert_exporter": "python",
   "pygments_lexer": "ipython3",
   "version": "3.8.5"
  },
  "orig_nbformat": 4,
  "vscode": {
   "interpreter": {
    "hash": "6a5afccaa8aa594a3f15c0bdcee3a8538fd164a3a6cdac3887c3c071b63c3d3c"
   }
  }
 },
 "nbformat": 4,
 "nbformat_minor": 2
}

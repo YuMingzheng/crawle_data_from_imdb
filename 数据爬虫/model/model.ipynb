{
 "cells": [
  {
   "cell_type": "code",
   "execution_count": 1,
   "metadata": {},
   "outputs": [],
   "source": [
    "import pandas as pd\n",
    "import numpy as np\n",
    "from math import sqrt\n",
    "import warnings\n",
    "warnings.filterwarnings(\"ignore\")\n",
    "\n",
    "# sklearn\n",
    "from sklearn.model_selection import train_test_split\n",
    "from sklearn.model_selection import KFold\n",
    "from sklearn.model_selection import cross_val_score\n",
    "from sklearn.model_selection import cross_val_predict\n",
    "from sklearn.model_selection import GridSearchCV\n",
    "from sklearn.metrics import r2_score, mean_absolute_error, mean_squared_error\n",
    "from sklearn.model_selection import RandomizedSearchCV\n",
    "from sklearn.preprocessing import StandardScaler\n",
    "from sklearn.preprocessing import MinMaxScaler\n",
    "\n",
    "# model\n",
    "from sklearn.linear_model import LinearRegression\n",
    "from sklearn.tree import DecisionTreeRegressor\n",
    "from sklearn.svm import SVR\n",
    "from sklearn.ensemble import RandomForestRegressor\n",
    "from xgboost.sklearn import XGBRegressor\n",
    "from keras.models import Sequential\n",
    "from keras.layers import Dense"
   ]
  },
  {
   "cell_type": "code",
   "execution_count": 2,
   "metadata": {},
   "outputs": [],
   "source": [
    "df = pd.read_csv(\"../out/film.txt\" , sep=\",\")"
   ]
  },
  {
   "cell_type": "code",
   "execution_count": 3,
   "metadata": {},
   "outputs": [],
   "source": [
    "df = df.drop_duplicates()"
   ]
  },
  {
   "cell_type": "code",
   "execution_count": 4,
   "metadata": {},
   "outputs": [],
   "source": [
    "gender_series = df['Gender']"
   ]
  },
  {
   "cell_type": "code",
   "execution_count": 5,
   "metadata": {},
   "outputs": [],
   "source": [
    "gender_set = set()\n",
    "for i , v in enumerate(gender_series):\n",
    "    for j in v.split(\"|\"):\n",
    "        gender_set.add(j)"
   ]
  },
  {
   "cell_type": "code",
   "execution_count": 6,
   "metadata": {},
   "outputs": [],
   "source": [
    "df['gender_list'] = df['Gender'].apply(lambda x : x.split(\"|\"))"
   ]
  },
  {
   "cell_type": "code",
   "execution_count": 7,
   "metadata": {},
   "outputs": [],
   "source": [
    "for gender in gender_set:\n",
    "    df['dummy_' + gender] = df['gender_list'].apply(lambda x : 1 if gender in x else 0)"
   ]
  },
  {
   "cell_type": "code",
   "execution_count": 8,
   "metadata": {},
   "outputs": [],
   "source": [
    "df_num = df.drop(columns=['ID' , \"Name\" , \"Year\" , 'Gender' , 'gender_list'])"
   ]
  },
  {
   "cell_type": "code",
   "execution_count": 9,
   "metadata": {},
   "outputs": [
    {
     "name": "stdout",
     "output_type": "stream",
     "text": [
      "<class 'pandas.core.frame.DataFrame'>\n",
      "Int64Index: 78 entries, 0 to 78\n",
      "Data columns (total 25 columns):\n",
      " #   Column             Non-Null Count  Dtype  \n",
      "---  ------             --------------  -----  \n",
      " 0   Duration           78 non-null     int64  \n",
      " 1   grossBox           78 non-null     float64\n",
      " 2   totalActorBox      78 non-null     float64\n",
      " 3   totalDirectorBox   78 non-null     float64\n",
      " 4   totalWriterBox     78 non-null     float64\n",
      " 5   totalProdFirmBox   78 non-null     float64\n",
      " 6   totalDistrFirmBox  78 non-null     float64\n",
      " 7   dummy_Musical      78 non-null     int64  \n",
      " 8   dummy_Drama        78 non-null     int64  \n",
      " 9   dummy_Thriller     78 non-null     int64  \n",
      " 10  dummy_Romance      78 non-null     int64  \n",
      " 11  dummy_Adventure    78 non-null     int64  \n",
      " 12  dummy_History      78 non-null     int64  \n",
      " 13  dummy_Animation    78 non-null     int64  \n",
      " 14  dummy_Action       78 non-null     int64  \n",
      " 15  dummy_Crime        78 non-null     int64  \n",
      " 16  dummy_Mystery      78 non-null     int64  \n",
      " 17  dummy_War          78 non-null     int64  \n",
      " 18  dummy_Fantasy      78 non-null     int64  \n",
      " 19  dummy_Family       78 non-null     int64  \n",
      " 20  dummy_Horror       78 non-null     int64  \n",
      " 21  dummy_Music        78 non-null     int64  \n",
      " 22  dummy_Sci-Fi       78 non-null     int64  \n",
      " 23  dummy_Comedy       78 non-null     int64  \n",
      " 24  dummy_Sport        78 non-null     int64  \n",
      "dtypes: float64(6), int64(19)\n",
      "memory usage: 15.8 KB\n"
     ]
    }
   ],
   "source": [
    "df_num.info()"
   ]
  },
  {
   "cell_type": "code",
   "execution_count": 10,
   "metadata": {},
   "outputs": [],
   "source": [
    "df_num_2 = df_num.iloc[: , 0:7]"
   ]
  },
  {
   "cell_type": "code",
   "execution_count": 11,
   "metadata": {},
   "outputs": [],
   "source": [
    "df_num = df_num[df_num['grossBox'] != 0]"
   ]
  },
  {
   "cell_type": "code",
   "execution_count": 12,
   "metadata": {},
   "outputs": [],
   "source": [
    "X = df_num_2.drop(\"grossBox\", axis=1)\n",
    "y = df_num_2[\"grossBox\"]\n",
    "\n",
    "X_train_df, X_test_df, y_train_df, y_test_df = train_test_split(\n",
    "    X, y, test_size=0.20, random_state=0)"
   ]
  },
  {
   "cell_type": "code",
   "execution_count": 13,
   "metadata": {},
   "outputs": [],
   "source": [
    "# StandardScaler\n",
    "scaler = StandardScaler()\n",
    "\n",
    "# X_train = scaler.fit_transform(X_train_df)\n",
    "# X_test  = scaler.fit_transform(X_test_df)\n",
    "\n",
    "X_train = X_train_df\n",
    "X_test  = X_test_df\n",
    "\n",
    "y_train = y_train_df\n",
    "y_test  = y_test_df"
   ]
  },
  {
   "cell_type": "code",
   "execution_count": 16,
   "metadata": {},
   "outputs": [
    {
     "name": "stdout",
     "output_type": "stream",
     "text": [
      "train score:  -0.27008454241813323\n",
      "Test score:  0.8214704597360097\n",
      "RMSE:  123083543.46912526\n"
     ]
    }
   ],
   "source": [
    "# RandomForestRegressor\n",
    "\n",
    "rf_param_grid = {\n",
    "    \"n_estimators\": [100, 200, 300, 1000] ,\n",
    "    \"min_samples_split\": [1, 2, 3, 4, 5],\n",
    "    \"n_estimators\": [10, 30, 50 , 100]\n",
    "}\n",
    "\n",
    "grid = GridSearchCV(RandomForestRegressor(n_jobs=-1 , random_state=10), param_grid=rf_param_grid, cv=5)\n",
    "\n",
    "grid.fit(X_train, y_train)\n",
    "print(\"train score: \", grid.best_score_)\n",
    "\n",
    "dtr_model = grid.best_estimator_\n",
    "print(\"Test score: \", dtr_model.score(X_test, y_test))\n",
    "\n",
    "print(\"RMSE: \" , sqrt(mean_squared_error(y_test , grid.predict(X_test))))"
   ]
  },
  {
   "cell_type": "code",
   "execution_count": 20,
   "metadata": {},
   "outputs": [
    {
     "data": {
      "text/html": [
       "<div>\n",
       "<style scoped>\n",
       "    .dataframe tbody tr th:only-of-type {\n",
       "        vertical-align: middle;\n",
       "    }\n",
       "\n",
       "    .dataframe tbody tr th {\n",
       "        vertical-align: top;\n",
       "    }\n",
       "\n",
       "    .dataframe thead th {\n",
       "        text-align: right;\n",
       "    }\n",
       "</style>\n",
       "<table border=\"1\" class=\"dataframe\">\n",
       "  <thead>\n",
       "    <tr style=\"text-align: right;\">\n",
       "      <th></th>\n",
       "      <th>0</th>\n",
       "      <th>1</th>\n",
       "      <th>2</th>\n",
       "      <th>3</th>\n",
       "      <th>4</th>\n",
       "      <th>5</th>\n",
       "      <th>6</th>\n",
       "      <th>7</th>\n",
       "      <th>8</th>\n",
       "      <th>9</th>\n",
       "      <th>10</th>\n",
       "      <th>11</th>\n",
       "      <th>12</th>\n",
       "      <th>13</th>\n",
       "      <th>14</th>\n",
       "      <th>15</th>\n",
       "    </tr>\n",
       "  </thead>\n",
       "  <tbody>\n",
       "    <tr>\n",
       "      <th>0</th>\n",
       "      <td>16404624.0</td>\n",
       "      <td>6857197.0</td>\n",
       "      <td>79604170.0</td>\n",
       "      <td>55782881.0</td>\n",
       "      <td>36107728.0</td>\n",
       "      <td>166382542.0</td>\n",
       "      <td>33177379.0</td>\n",
       "      <td>33151747.0</td>\n",
       "      <td>31279881.0</td>\n",
       "      <td>61959641.0</td>\n",
       "      <td>9155.0</td>\n",
       "      <td>159181556.0</td>\n",
       "      <td>115889407.0</td>\n",
       "      <td>51880804.0</td>\n",
       "      <td>8.279791e+08</td>\n",
       "      <td>67443553.0</td>\n",
       "    </tr>\n",
       "    <tr>\n",
       "      <th>1</th>\n",
       "      <td>9345649.0</td>\n",
       "      <td>13075926.0</td>\n",
       "      <td>48825526.0</td>\n",
       "      <td>8665577.0</td>\n",
       "      <td>193678298.0</td>\n",
       "      <td>205637183.0</td>\n",
       "      <td>10044092.0</td>\n",
       "      <td>31222161.0</td>\n",
       "      <td>85557721.0</td>\n",
       "      <td>188116796.0</td>\n",
       "      <td>193338.0</td>\n",
       "      <td>312242626.0</td>\n",
       "      <td>98203196.0</td>\n",
       "      <td>27670000.0</td>\n",
       "      <td>1.236005e+09</td>\n",
       "      <td>117991727.0</td>\n",
       "    </tr>\n",
       "  </tbody>\n",
       "</table>\n",
       "</div>"
      ],
      "text/plain": [
       "            0           1           2           3            4            5  \\\n",
       "0  16404624.0   6857197.0  79604170.0  55782881.0   36107728.0  166382542.0   \n",
       "1   9345649.0  13075926.0  48825526.0   8665577.0  193678298.0  205637183.0   \n",
       "\n",
       "            6           7           8            9        10           11  \\\n",
       "0  33177379.0  33151747.0  31279881.0   61959641.0    9155.0  159181556.0   \n",
       "1  10044092.0  31222161.0  85557721.0  188116796.0  193338.0  312242626.0   \n",
       "\n",
       "            12          13            14           15  \n",
       "0  115889407.0  51880804.0  8.279791e+08   67443553.0  \n",
       "1   98203196.0  27670000.0  1.236005e+09  117991727.0  "
      ]
     },
     "execution_count": 20,
     "metadata": {},
     "output_type": "execute_result"
    }
   ],
   "source": [
    "pd.DataFrame([np.round(dtr_model.predict(X_test) , 0) , y_test])"
   ]
  }
 ],
 "metadata": {
  "kernelspec": {
   "display_name": "Python 3.8.5 64-bit",
   "language": "python",
   "name": "python3"
  },
  "language_info": {
   "codemirror_mode": {
    "name": "ipython",
    "version": 3
   },
   "file_extension": ".py",
   "mimetype": "text/x-python",
   "name": "python",
   "nbconvert_exporter": "python",
   "pygments_lexer": "ipython3",
   "version": "3.8.5"
  },
  "orig_nbformat": 4,
  "vscode": {
   "interpreter": {
    "hash": "6a5afccaa8aa594a3f15c0bdcee3a8538fd164a3a6cdac3887c3c071b63c3d3c"
   }
  }
 },
 "nbformat": 4,
 "nbformat_minor": 2
}
